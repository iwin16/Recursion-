{
 "cells": [
  {
   "cell_type": "code",
   "execution_count": 1,
   "id": "b44eab86",
   "metadata": {},
   "outputs": [],
   "source": [
    "import numpy as np\n",
    "import math"
   ]
  },
  {
   "cell_type": "code",
   "execution_count": 2,
   "id": "33b8e841",
   "metadata": {},
   "outputs": [],
   "source": [
    "person = 'cat' if \"cat\" in \"cats are better lions\" else 'bitches'"
   ]
  },
  {
   "cell_type": "code",
   "execution_count": 3,
   "id": "1933a956",
   "metadata": {},
   "outputs": [
    {
     "data": {
      "text/plain": [
       "'cat'"
      ]
     },
     "execution_count": 3,
     "metadata": {},
     "output_type": "execute_result"
    }
   ],
   "source": [
    "person\n"
   ]
  },
  {
   "cell_type": "code",
   "execution_count": 5,
   "id": "d87bad98",
   "metadata": {},
   "outputs": [],
   "source": [
    "def my_towers(N, from_tower, to_tower, alt_tower):\n",
    "    \"\"\"\n",
    "    Displays the moves required to move a tower of size N from the\n",
    "    'from_tower' to the 'to_tower'. \n",
    "    \n",
    "    'from_tower', 'to_tower' and 'alt_tower' are uniquely either \n",
    "    1, 2, or 3 referring to tower 1, tower 2, and tower 3. \n",
    "    \"\"\"\n",
    "    \n",
    "    if N != 0:\n",
    "        # recursive call that moves N-1 stack from starting tower\n",
    "        # to alternate tower\n",
    "        my_towers(N-1, from_tower, alt_tower, to_tower)\n",
    "        \n",
    "        # display to screen movement of bottom disk from starting\n",
    "        # tower to final tower\n",
    "        print(\"Move disk %d from tower %d to tower %d.\"\\\n",
    "                  %(N, from_tower, to_tower))\n",
    "        \n",
    "        # recursive call that moves N-1 stack from alternate tower\n",
    "        # to final tower\n",
    "        my_towers(N-1, alt_tower, to_tower, from_tower)"
   ]
  },
  {
   "cell_type": "code",
   "execution_count": 10,
   "id": "ebcbc8f7",
   "metadata": {},
   "outputs": [
    {
     "name": "stdout",
     "output_type": "stream",
     "text": [
      "Move disk 1 from tower 1 to tower 3.\n",
      "Move disk 2 from tower 1 to tower 2.\n",
      "Move disk 1 from tower 3 to tower 2.\n",
      "Move disk 3 from tower 1 to tower 3.\n",
      "Move disk 1 from tower 2 to tower 1.\n",
      "Move disk 2 from tower 2 to tower 3.\n",
      "Move disk 1 from tower 1 to tower 3.\n",
      "Move disk 4 from tower 1 to tower 2.\n",
      "Move disk 1 from tower 3 to tower 2.\n",
      "Move disk 2 from tower 3 to tower 1.\n",
      "Move disk 1 from tower 2 to tower 1.\n",
      "Move disk 3 from tower 3 to tower 2.\n",
      "Move disk 1 from tower 1 to tower 3.\n",
      "Move disk 2 from tower 1 to tower 2.\n",
      "Move disk 1 from tower 3 to tower 2.\n"
     ]
    }
   ],
   "source": [
    "my_towers(4,1,2,3)"
   ]
  },
  {
   "cell_type": "markdown",
   "id": "947023cb",
   "metadata": {},
   "source": [
    "Chebyshev polynomials are defined recursively. Chebyshev polynomials are separated into two kinds: first and second. Chebyshev polynomials of the first kind, Tn(x)\n",
    ", and of the second kind, Un(x)\n",
    ", are defined by the following recurrence relations:\n",
    "\n",
    "(3)¶\n",
    "Tn(x)=⎧⎩⎨1x2xTn−1(x)−Tn−2(x)if n=0if n=1otherwise\n",
    "(4)¶\n",
    "Un(x)=⎧⎩⎨12x2xUn−1(x)−Un−2(x)if n=0if n=1otherwise\n",
    "Write a function my_chebyshev_poly1(n,x), where the output y is the n-th Chebyshev polynomial of the first kind evaluated at x. Be sure your function can take list inputs for x. You may assume that x is a list. The output variable, y, must be a list also."
   ]
  },
  {
   "cell_type": "code",
   "execution_count": 22,
   "id": "58bfb9f1",
   "metadata": {},
   "outputs": [],
   "source": [
    "def cheb(x,n):\n",
    "    if n == 0:\n",
    "        return(1)\n",
    "    elif n == 1:\n",
    "        return(x)\n",
    "    else:\n",
    "        x= np.array(x)\n",
    "        return(list(2*x*cheb(x,n-1)-cheb(x,n-2)))"
   ]
  },
  {
   "cell_type": "code",
   "execution_count": 25,
   "id": "b048fd2c",
   "metadata": {},
   "outputs": [
    {
     "ename": "SyntaxError",
     "evalue": "positional argument follows keyword argument (1695381312.py, line 1)",
     "output_type": "error",
     "traceback": [
      "\u001b[1;36m  Cell \u001b[1;32mIn [25], line 1\u001b[1;36m\u001b[0m\n\u001b[1;33m    cheb(x=[1, 2, 3, 4, 5],6)\u001b[0m\n\u001b[1;37m                            ^\u001b[0m\n\u001b[1;31mSyntaxError\u001b[0m\u001b[1;31m:\u001b[0m positional argument follows keyword argument\n"
     ]
    }
   ],
   "source": [
    "cheb([1, 2, 3, 4, 5],6)"
   ]
  },
  {
   "cell_type": "code",
   "execution_count": 27,
   "id": "35566dc8",
   "metadata": {},
   "outputs": [
    {
     "ename": "TypeError",
     "evalue": "unsupported operand type(s) for -: 'list' and 'int'",
     "output_type": "error",
     "traceback": [
      "\u001b[1;31m---------------------------------------------------------------------------\u001b[0m",
      "\u001b[1;31mTypeError\u001b[0m                                 Traceback (most recent call last)",
      "Cell \u001b[1;32mIn [27], line 2\u001b[0m\n\u001b[0;32m      1\u001b[0m x\u001b[38;5;241m=\u001b[39m[\u001b[38;5;241m1\u001b[39m, \u001b[38;5;241m2\u001b[39m, \u001b[38;5;241m3\u001b[39m, \u001b[38;5;241m4\u001b[39m, \u001b[38;5;241m5\u001b[39m]\n\u001b[1;32m----> 2\u001b[0m \u001b[43mcheb\u001b[49m\u001b[43m(\u001b[49m\u001b[43m[\u001b[49m\u001b[38;5;241;43m0\u001b[39;49m\u001b[43m]\u001b[49m\u001b[43m,\u001b[49m\u001b[43mx\u001b[49m\u001b[43m)\u001b[49m\n",
      "Cell \u001b[1;32mIn [22], line 8\u001b[0m, in \u001b[0;36mcheb\u001b[1;34m(x, n)\u001b[0m\n\u001b[0;32m      6\u001b[0m \u001b[38;5;28;01melse\u001b[39;00m:\n\u001b[0;32m      7\u001b[0m     x\u001b[38;5;241m=\u001b[39m np\u001b[38;5;241m.\u001b[39marray(x)\n\u001b[1;32m----> 8\u001b[0m     \u001b[38;5;28;01mreturn\u001b[39;00m(\u001b[38;5;28mlist\u001b[39m(\u001b[38;5;241m2\u001b[39m\u001b[38;5;241m*\u001b[39mx\u001b[38;5;241m*\u001b[39mcheb(x,\u001b[43mn\u001b[49m\u001b[38;5;241;43m-\u001b[39;49m\u001b[38;5;241;43m1\u001b[39;49m)\u001b[38;5;241m-\u001b[39mcheb(x,n\u001b[38;5;241m-\u001b[39m\u001b[38;5;241m2\u001b[39m)))\n",
      "\u001b[1;31mTypeError\u001b[0m: unsupported operand type(s) for -: 'list' and 'int'"
     ]
    }
   ],
   "source": [
    "x=[1, 2, 3, 4, 5]\n",
    "cheb([0],x)"
   ]
  },
  {
   "cell_type": "markdown",
   "id": "4582ff9b",
   "metadata": {},
   "source": [
    "The Ackermann function, A, is a quickly growing function that is defined by the recursive relationship:\n",
    "\n",
    "(5)¶\n",
    "A(m,n)=⎧⎩⎨n+1A(m−1,1)A(m−1,A(m,n−1))if m=0if m>0 and n=1if m>0 and n>0\n",
    "Write a function my_ackermann(m,n), where the output is the Ackermann function compuated for m and n.\n",
    "\n",
    "my_ackermann(4,4) is so large that it would be difficult to write down. Although the Ackermann function does not have many practical uses, the inverse Ackermann function has several uses in robotic motion planning"
   ]
  },
  {
   "cell_type": "code",
   "execution_count": 34,
   "id": "f51eebbd",
   "metadata": {},
   "outputs": [],
   "source": [
    "def aman(m,n):\n",
    "    if m==0:\n",
    "        return(m+1)\n",
    "    elif (m > 0) and (n==1):\n",
    "        return(aman(m-1,1))\n",
    "    elif (m>0) and (n>0):       \n",
    "        return(aman(m-1, aman(m,n-1)))"
   ]
  },
  {
   "cell_type": "code",
   "execution_count": 38,
   "id": "2a344fbc",
   "metadata": {},
   "outputs": [
    {
     "data": {
      "text/plain": [
       "1"
      ]
     },
     "execution_count": 38,
     "metadata": {},
     "output_type": "execute_result"
    }
   ],
   "source": [
    "aman(2,5)"
   ]
  },
  {
   "cell_type": "markdown",
   "id": "9d95917f",
   "metadata": {},
   "source": [
    "The greatest common divisor of two integers a and b is the largest integer that divides both numbers without remainder, and the function to compute it is denoted by gcd(a,b). The gcd function can be written recursively. If b equals 0, then a is the greatest common divisor. Otherwise, gcd(a,b) = gcd(b,a%b) where a%b is the remainder of a divided by b. Assume that a and b are integers."
   ]
  },
  {
   "cell_type": "code",
   "execution_count": 6,
   "id": "5a787815",
   "metadata": {},
   "outputs": [],
   "source": [
    "def gcd(a,b):\n",
    "    return(a if b==0 else gcd(b,a%b))"
   ]
  },
  {
   "cell_type": "code",
   "execution_count": 7,
   "id": "2d99951e",
   "metadata": {},
   "outputs": [
    {
     "data": {
      "text/plain": [
       "5"
      ]
     },
     "execution_count": 7,
     "metadata": {},
     "output_type": "execute_result"
    }
   ],
   "source": [
    "gcd(10,5)"
   ]
  },
  {
   "cell_type": "code",
   "execution_count": 8,
   "id": "3ed6ef77",
   "metadata": {},
   "outputs": [
    {
     "data": {
      "text/plain": [
       "11"
      ]
     },
     "execution_count": 8,
     "metadata": {},
     "output_type": "execute_result"
    }
   ],
   "source": [
    "gcd(33, 121)"
   ]
  },
  {
   "cell_type": "markdown",
   "id": "ea6915d2",
   "metadata": {},
   "source": [
    "Pascal’s triangle is an arrangement of numbers such that each row is equivalent to the coefficients of the binomial expansion of (x+y)(p−1)\n",
    ", where p is some positive integer more than or equal to 1. For example, (x+y)2=1x2+2xy+1y2\n",
    " so the third row of Pascal’s triangle is 1 2 1.\n",
    "\n",
    "Let Rm\n",
    " represent the m-th row of Pascal’s triangle, and Rm(n)\n",
    " be the n\n",
    "-th element of the row. By definition, Rm\n",
    " has m elements, and Rm(1)=Rm(n)=1\n",
    ". The remaining elements are computed by the following recursive relationship: Rm(i)=Rm−1(i−1)+Rm−1(i)\n",
    " for i=2,…,m−1\n",
    ". The first few rows of Pascal’s triangle are depicted in the following figure. You may assume that m is a strictly positive integer. The output variable, row, must be a list."
   ]
  },
  {
   "cell_type": "code",
   "execution_count": 64,
   "id": "5524ba64",
   "metadata": {},
   "outputs": [],
   "source": [
    "def pascal(m):\n",
    "    if m == 1:\n",
    "        return [1]\n",
    "    else:\n",
    "        pascalist = [1]\n",
    "        prepascal = pascal(m-1)\n",
    "        for n in range(1, m-1):\n",
    "            pascalist.append(prepascal[n-1] + prepascal[n])\n",
    "        pascalist.append(1)\n",
    "    return pascalist"
   ]
  },
  {
   "cell_type": "code",
   "execution_count": 70,
   "id": "17564995",
   "metadata": {},
   "outputs": [
    {
     "data": {
      "text/plain": [
       "[1,\n",
       " 33,\n",
       " 528,\n",
       " 5456,\n",
       " 40920,\n",
       " 237336,\n",
       " 1107568,\n",
       " 4272048,\n",
       " 13884156,\n",
       " 38567100,\n",
       " 92561040,\n",
       " 193536720,\n",
       " 354817320,\n",
       " 573166440,\n",
       " 818809200,\n",
       " 1037158320,\n",
       " 1166803110,\n",
       " 1166803110,\n",
       " 1037158320,\n",
       " 818809200,\n",
       " 573166440,\n",
       " 354817320,\n",
       " 193536720,\n",
       " 92561040,\n",
       " 38567100,\n",
       " 13884156,\n",
       " 4272048,\n",
       " 1107568,\n",
       " 237336,\n",
       " 40920,\n",
       " 5456,\n",
       " 528,\n",
       " 33,\n",
       " 1]"
      ]
     },
     "execution_count": 70,
     "metadata": {},
     "output_type": "execute_result"
    }
   ],
   "source": [
    "pascal(34)"
   ]
  },
  {
   "cell_type": "markdown",
   "id": "133436e2",
   "metadata": {},
   "source": [
    "Consider a n×n\n",
    " matrix of the following form:\n",
    "\n",
    "A=⎡⎣⎢⎢⎢⎢⎢⎢1111110001101011011110000⎤⎦⎥⎥⎥⎥⎥⎥\n",
    "where the ones form a right spiral. Write a function my_spiral_ones(n) that produces an n×n\n",
    " matrix of the given form. Take care that the recursive steps are in the correct order (i.e., the ones go right, then down, then left, then up, then right, etc.)"
   ]
  },
  {
   "cell_type": "code",
   "execution_count": null,
   "id": "8fe57e8d",
   "metadata": {},
   "outputs": [],
   "source": [
    "def spiral(m):\n",
    "    x = np.zeros((m))\n",
    "    "
   ]
  }
 ],
 "metadata": {
  "kernelspec": {
   "display_name": "Python 3 (ipykernel)",
   "language": "python",
   "name": "python3"
  },
  "language_info": {
   "codemirror_mode": {
    "name": "ipython",
    "version": 3
   },
   "file_extension": ".py",
   "mimetype": "text/x-python",
   "name": "python",
   "nbconvert_exporter": "python",
   "pygments_lexer": "ipython3",
   "version": "3.9.12"
  }
 },
 "nbformat": 4,
 "nbformat_minor": 5
}
